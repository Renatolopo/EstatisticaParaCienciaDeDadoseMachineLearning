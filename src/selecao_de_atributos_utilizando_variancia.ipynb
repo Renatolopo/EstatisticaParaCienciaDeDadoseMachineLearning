{
 "metadata": {
  "language_info": {
   "codemirror_mode": {
    "name": "ipython",
    "version": 3
   },
   "file_extension": ".py",
   "mimetype": "text/x-python",
   "name": "python",
   "nbconvert_exporter": "python",
   "pygments_lexer": "ipython3",
   "version": "3.8.5"
  },
  "orig_nbformat": 2,
  "kernelspec": {
   "name": "python3",
   "display_name": "Python 3.8.5 64-bit ('base': conda)",
   "metadata": {
    "interpreter": {
     "hash": "1d151a68831448000e09cfc499a6de9a24b6912dae8debe2df70808284a908ce"
    }
   }
  }
 },
 "nbformat": 4,
 "nbformat_minor": 2,
 "cells": [
  {
   "source": [
    "O objetivo deste exercício é utilizar a base de dados do crédito e aplicar a técnica de seleção de atributos utilizando variância.\n",
    "\n",
    "- Carregue o arquivo credit_data.csv\n",
    "\n",
    "- Calcule a variância para os atributos income, age e loan e aplique o método de seleção Low Variance\n",
    "\n",
    "- Faça um teste do accuracy utilizando o algoritmo Naïve Bayes, sem seleção de atributos e com seleção de atributos\n"
   ],
   "cell_type": "markdown",
   "metadata": {}
  },
  {
   "cell_type": "code",
   "execution_count": 72,
   "metadata": {},
   "outputs": [],
   "source": [
    "import pandas as pd \n",
    "from sklearn.feature_selection import VarianceThreshold\n",
    "from sklearn.preprocessing import MinMaxScaler\n",
    "import numpy as np "
   ]
  },
  {
   "cell_type": "code",
   "execution_count": 41,
   "metadata": {},
   "outputs": [
    {
     "output_type": "execute_result",
     "data": {
      "text/plain": [
       "   i#clientid        income        age         loan  c#default\n",
       "0           1  66155.925095  59.017015  8106.532131          0\n",
       "1           2  34415.153966  48.117153  6564.745018          0\n",
       "2           3  57317.170063  63.108049  8020.953296          0\n",
       "3           4  42709.534201  45.751972  6103.642260          0\n",
       "4           5  66952.688845  18.584336  8770.099235          1"
      ],
      "text/html": "<div>\n<style scoped>\n    .dataframe tbody tr th:only-of-type {\n        vertical-align: middle;\n    }\n\n    .dataframe tbody tr th {\n        vertical-align: top;\n    }\n\n    .dataframe thead th {\n        text-align: right;\n    }\n</style>\n<table border=\"1\" class=\"dataframe\">\n  <thead>\n    <tr style=\"text-align: right;\">\n      <th></th>\n      <th>i#clientid</th>\n      <th>income</th>\n      <th>age</th>\n      <th>loan</th>\n      <th>c#default</th>\n    </tr>\n  </thead>\n  <tbody>\n    <tr>\n      <th>0</th>\n      <td>1</td>\n      <td>66155.925095</td>\n      <td>59.017015</td>\n      <td>8106.532131</td>\n      <td>0</td>\n    </tr>\n    <tr>\n      <th>1</th>\n      <td>2</td>\n      <td>34415.153966</td>\n      <td>48.117153</td>\n      <td>6564.745018</td>\n      <td>0</td>\n    </tr>\n    <tr>\n      <th>2</th>\n      <td>3</td>\n      <td>57317.170063</td>\n      <td>63.108049</td>\n      <td>8020.953296</td>\n      <td>0</td>\n    </tr>\n    <tr>\n      <th>3</th>\n      <td>4</td>\n      <td>42709.534201</td>\n      <td>45.751972</td>\n      <td>6103.642260</td>\n      <td>0</td>\n    </tr>\n    <tr>\n      <th>4</th>\n      <td>5</td>\n      <td>66952.688845</td>\n      <td>18.584336</td>\n      <td>8770.099235</td>\n      <td>1</td>\n    </tr>\n  </tbody>\n</table>\n</div>"
     },
     "metadata": {},
     "execution_count": 41
    }
   ],
   "source": [
    "df = pd.read_csv('../data/credit_data.csv')\n",
    "df.dropna(inplace=True)\n",
    "df.head()"
   ]
  },
  {
   "cell_type": "code",
   "execution_count": 42,
   "metadata": {},
   "outputs": [
    {
     "output_type": "execute_result",
     "data": {
      "text/plain": [
       "        i#clientid        income          age          loan    c#default\n",
       "count  1997.000000   1997.000000  1997.000000   1997.000000  1997.000000\n",
       "mean   1001.956935  45333.864334    40.807559   4445.487716     0.141713\n",
       "std     576.702206  14325.131177    13.624469   3046.792457     0.348842\n",
       "min       1.000000  20014.489470   -52.423280      1.377630     0.000000\n",
       "25%     503.000000  32804.904487    28.990415   1936.813257     0.000000\n",
       "50%    1002.000000  45788.747100    41.317159   3977.287432     0.000000\n",
       "75%    1501.000000  57787.565659    52.587040   6440.861434     0.000000\n",
       "max    2000.000000  69995.685578    63.971796  13766.051239     1.000000"
      ],
      "text/html": "<div>\n<style scoped>\n    .dataframe tbody tr th:only-of-type {\n        vertical-align: middle;\n    }\n\n    .dataframe tbody tr th {\n        vertical-align: top;\n    }\n\n    .dataframe thead th {\n        text-align: right;\n    }\n</style>\n<table border=\"1\" class=\"dataframe\">\n  <thead>\n    <tr style=\"text-align: right;\">\n      <th></th>\n      <th>i#clientid</th>\n      <th>income</th>\n      <th>age</th>\n      <th>loan</th>\n      <th>c#default</th>\n    </tr>\n  </thead>\n  <tbody>\n    <tr>\n      <th>count</th>\n      <td>1997.000000</td>\n      <td>1997.000000</td>\n      <td>1997.000000</td>\n      <td>1997.000000</td>\n      <td>1997.000000</td>\n    </tr>\n    <tr>\n      <th>mean</th>\n      <td>1001.956935</td>\n      <td>45333.864334</td>\n      <td>40.807559</td>\n      <td>4445.487716</td>\n      <td>0.141713</td>\n    </tr>\n    <tr>\n      <th>std</th>\n      <td>576.702206</td>\n      <td>14325.131177</td>\n      <td>13.624469</td>\n      <td>3046.792457</td>\n      <td>0.348842</td>\n    </tr>\n    <tr>\n      <th>min</th>\n      <td>1.000000</td>\n      <td>20014.489470</td>\n      <td>-52.423280</td>\n      <td>1.377630</td>\n      <td>0.000000</td>\n    </tr>\n    <tr>\n      <th>25%</th>\n      <td>503.000000</td>\n      <td>32804.904487</td>\n      <td>28.990415</td>\n      <td>1936.813257</td>\n      <td>0.000000</td>\n    </tr>\n    <tr>\n      <th>50%</th>\n      <td>1002.000000</td>\n      <td>45788.747100</td>\n      <td>41.317159</td>\n      <td>3977.287432</td>\n      <td>0.000000</td>\n    </tr>\n    <tr>\n      <th>75%</th>\n      <td>1501.000000</td>\n      <td>57787.565659</td>\n      <td>52.587040</td>\n      <td>6440.861434</td>\n      <td>0.000000</td>\n    </tr>\n    <tr>\n      <th>max</th>\n      <td>2000.000000</td>\n      <td>69995.685578</td>\n      <td>63.971796</td>\n      <td>13766.051239</td>\n      <td>1.000000</td>\n    </tr>\n  </tbody>\n</table>\n</div>"
     },
     "metadata": {},
     "execution_count": 42
    }
   ],
   "source": [
    "df.describe()"
   ]
  },
  {
   "cell_type": "code",
   "execution_count": 43,
   "metadata": {},
   "outputs": [
    {
     "output_type": "execute_result",
     "data": {
      "text/plain": [
       "array([[6.61559251e+04, 5.90170151e+01, 8.10653213e+03],\n",
       "       [3.44151540e+04, 4.81171531e+01, 6.56474502e+03],\n",
       "       [5.73171701e+04, 6.31080495e+01, 8.02095330e+03],\n",
       "       ...,\n",
       "       [4.43114493e+04, 2.80171669e+01, 5.52278669e+03],\n",
       "       [4.37560566e+04, 6.39717958e+01, 1.62272260e+03],\n",
       "       [6.94365796e+04, 5.61526170e+01, 7.37883360e+03]])"
      ]
     },
     "metadata": {},
     "execution_count": 43
    }
   ],
   "source": [
    "df.iloc[:, 1:4].values"
   ]
  },
  {
   "cell_type": "code",
   "execution_count": 44,
   "metadata": {},
   "outputs": [],
   "source": [
    "X = df.iloc[:, 1:4].values\n",
    "y = df.iloc[:, 4:].values"
   ]
  },
  {
   "cell_type": "code",
   "execution_count": 67,
   "metadata": {},
   "outputs": [],
   "source": [
    "scaler = MinMaxScaler()\n",
    "X = scaler.fit_transform(X)"
   ]
  },
  {
   "cell_type": "code",
   "execution_count": 73,
   "metadata": {},
   "outputs": [
    {
     "output_type": "execute_result",
     "data": {
      "text/plain": [
       "(0.027646353650092215, 0.057415153407223446, 0.02838948027619903)"
      ]
     },
     "metadata": {},
     "execution_count": 73
    }
   ],
   "source": [
    "np.var(X[0]), np.var(X[1]), np.var(X[2])"
   ]
  },
  {
   "cell_type": "code",
   "execution_count": 76,
   "metadata": {},
   "outputs": [
    {
     "output_type": "execute_result",
     "data": {
      "text/plain": [
       "array([[0.9231759 , 0.58883739],\n",
       "       [0.28812165, 0.47682695],\n",
       "       [0.74633429, 0.58262011],\n",
       "       ...,\n",
       "       [0.48612202, 0.40112895],\n",
       "       [0.47500998, 0.1177903 ],\n",
       "       [0.98881367, 0.53597028]])"
      ]
     },
     "metadata": {},
     "execution_count": 76
    }
   ],
   "source": [
    "selecao = VarianceThreshold(0.027)\n",
    "X_novo = selecao.fit_transform(X)\n",
    "X_novo"
   ]
  },
  {
   "cell_type": "code",
   "execution_count": 77,
   "metadata": {},
   "outputs": [
    {
     "output_type": "execute_result",
     "data": {
      "text/plain": [
       "((1997, 3), (1997, 2))"
      ]
     },
     "metadata": {},
     "execution_count": 77
    }
   ],
   "source": [
    "X.shape, X_novo.shape"
   ]
  },
  {
   "cell_type": "code",
   "execution_count": 78,
   "metadata": {},
   "outputs": [],
   "source": [
    "from sklearn.naive_bayes import GaussianNB\n",
    "from sklearn.model_selection import train_test_split\n",
    "from sklearn.metrics import accuracy_score\n",
    "from sklearn.model_selection import cross_val_score"
   ]
  },
  {
   "cell_type": "code",
   "execution_count": 79,
   "metadata": {},
   "outputs": [
    {
     "output_type": "execute_result",
     "data": {
      "text/plain": [
       "array([0.88059701, 0.95522388, 0.89552239, 0.97014925, 0.8358209 ,\n",
       "       0.94029851, 0.97014925, 0.91044776, 0.98507463, 0.91044776,\n",
       "       0.89552239, 0.95522388, 0.91044776, 0.89552239, 0.95522388,\n",
       "       0.97014925, 0.94029851, 0.89393939, 0.93939394, 0.92424242,\n",
       "       0.95454545, 0.93939394, 0.90909091, 0.89393939, 0.89393939,\n",
       "       0.92424242, 0.90909091, 0.95454545, 0.93939394, 0.89393939])"
      ]
     },
     "metadata": {},
     "execution_count": 79
    }
   ],
   "source": [
    "naive_bayes = GaussianNB()\n",
    "resultados_naive_bayes = cross_val_score(naive_bayes, X, y, cv=30)\n",
    "resultados_naive_bayes"
   ]
  },
  {
   "cell_type": "code",
   "execution_count": 80,
   "metadata": {},
   "outputs": [
    {
     "output_type": "execute_result",
     "data": {
      "text/plain": [
       "array([0.85074627, 0.86567164, 0.79104478, 0.85074627, 0.85074627,\n",
       "       0.85074627, 0.85074627, 0.82089552, 0.85074627, 0.8358209 ,\n",
       "       0.85074627, 0.82089552, 0.79104478, 0.8358209 , 0.86567164,\n",
       "       0.8358209 , 0.86567164, 0.81818182, 0.86363636, 0.84848485,\n",
       "       0.84848485, 0.89393939, 0.87878788, 0.86363636, 0.86363636,\n",
       "       0.81818182, 0.87878788, 0.8030303 , 0.86363636, 0.84848485])"
      ]
     },
     "metadata": {},
     "execution_count": 80
    }
   ],
   "source": [
    "naive_bayes = GaussianNB()\n",
    "resultados_naive_bayes = cross_val_score(naive_bayes, X_novo, y, cv=30)\n",
    "resultados_naive_bayes"
   ]
  },
  {
   "source": [
    "como pode ser visto a aplicação desse metodo nessa base de dados não ira melhorar a acuracia"
   ],
   "cell_type": "markdown",
   "metadata": {}
  }
 ]
}