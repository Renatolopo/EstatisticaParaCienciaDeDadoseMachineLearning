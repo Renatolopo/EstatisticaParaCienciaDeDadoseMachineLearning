{
 "metadata": {
  "language_info": {
   "codemirror_mode": {
    "name": "ipython",
    "version": 3
   },
   "file_extension": ".py",
   "mimetype": "text/x-python",
   "name": "python",
   "nbconvert_exporter": "python",
   "pygments_lexer": "ipython3",
   "version": "3.8.5"
  },
  "orig_nbformat": 2,
  "kernelspec": {
   "name": "python3",
   "display_name": "Python 3.8.5 64-bit ('base': conda)",
   "metadata": {
    "interpreter": {
     "hash": "1d151a68831448000e09cfc499a6de9a24b6912dae8debe2df70808284a908ce"
    }
   }
  }
 },
 "nbformat": 4,
 "nbformat_minor": 2,
 "cells": [
  {
   "cell_type": "code",
   "execution_count": 1,
   "metadata": {},
   "outputs": [],
   "source": [
    "import numpy as np"
   ]
  },
  {
   "source": [
    "Assim como você pode fazer testes de hipóteses usando a estatística Z, é também possível utilizar a estatística T da Distribuição T Student para realizar testes de hipóteses quando você possui poucos registros (até 30 amostras). Implemente a base de dados abaixo com a alturas de somente 9 pessoas\n",
    "\n",
    "    np.array([149. , 160., 147., 189., 175., 168., 156., 160., 152.])\n",
    "\n",
    "Depois siga o seguinte roteiro:\n",
    "\n",
    "    Crie uma nova variável também com alturas de 9 pessoas, porém, com valores diferentes\n",
    "\n",
    "    Faça a importação do pacote from scipy.stats import ttest_rel para realizar o teste de hipótese. \n",
    "    Realize o teste de hipótese para verificar se as distribuições são ou não são diferentes"
   ],
   "cell_type": "markdown",
   "metadata": {}
  },
  {
   "cell_type": "code",
   "execution_count": 5,
   "metadata": {},
   "outputs": [
    {
     "output_type": "execute_result",
     "data": {
      "text/plain": [
       "(161.77777777777777, 12.786953227391823)"
      ]
     },
     "metadata": {},
     "execution_count": 5
    }
   ],
   "source": [
    "dados1 = np.array([149. , 160., 147., 189., 175., 168., 156., 160., 152.])\n",
    "dados1.mean(), np.std(dados1)"
   ]
  },
  {
   "cell_type": "code",
   "execution_count": 6,
   "metadata": {},
   "outputs": [
    {
     "output_type": "execute_result",
     "data": {
      "text/plain": [
       "(162.88888888888889, 12.52947143023151)"
      ]
     },
     "metadata": {},
     "execution_count": 6
    }
   ],
   "source": [
    "dados2 = np.array([150. , 161., 148., 189., 176., 170., 157., 161., 154.])\n",
    "dados2.mean(), np.std(dados2)"
   ]
  },
  {
   "cell_type": "code",
   "execution_count": 3,
   "metadata": {},
   "outputs": [],
   "source": [
    "from scipy.stats import ttest_rel"
   ]
  },
  {
   "cell_type": "code",
   "execution_count": 7,
   "metadata": {},
   "outputs": [
    {
     "output_type": "execute_result",
     "data": {
      "text/plain": [
       "0.000542879694020819"
      ]
     },
     "metadata": {},
     "execution_count": 7
    }
   ],
   "source": [
    "_, p = ttest_rel(dados1, dados2)\n",
    "p"
   ]
  },
  {
   "cell_type": "code",
   "execution_count": 8,
   "metadata": {},
   "outputs": [
    {
     "output_type": "stream",
     "name": "stdout",
     "text": [
      "Hipotese nula rejeitada\n"
     ]
    }
   ],
   "source": [
    "alpha = 0.01\n",
    "if p <= alpha:\n",
    "    print(\"Hipotese nula rejeitada\")\n",
    "else:\n",
    "    print(\"Hipotese alternativa rejeitada\")\n",
    "    "
   ]
  }
 ]
}